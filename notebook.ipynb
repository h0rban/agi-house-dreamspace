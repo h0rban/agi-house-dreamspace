{
 "cells": [
  {
   "cell_type": "code",
   "execution_count": 42,
   "id": "initial_id",
   "metadata": {
    "collapsed": true,
    "ExecuteTime": {
     "end_time": "2023-10-22T00:19:07.094647Z",
     "start_time": "2023-10-22T00:19:07.089466Z"
    }
   },
   "outputs": [
    {
     "name": "stdout",
     "output_type": "stream",
     "text": [
      "{'vocals': '/Users/h0rban/code/dreamspace-hackathon/songs/dancing_queen/VOCALS_99BPM_AMajor_VBSP_abba___dancing_queen.wav', 'drums': '/Users/h0rban/code/dreamspace-hackathon/songs/dancing_queen/DRUMS_99BPM_AMajor_VBSP_abba___dancing_queen.wav', 'bass': '/Users/h0rban/code/dreamspace-hackathon/songs/dancing_queen/BASS_99BPM_AMajor_VBSP_abba___dancing_queen.wav', 'other': '/Users/h0rban/code/dreamspace-hackathon/songs/dancing_queen/OTHER_99BPM_AMajor_VBSP_abba___dancing_queen.wav'}\n"
     ]
    }
   ],
   "source": [
    "import os\n",
    "import pygame\n",
    "import numpy as np\n",
    "\n",
    "path = 'songs/dancing_queen/'\n",
    "tracks = os.listdir(path)\n",
    "\n",
    "track2file = {}\n",
    "for track in tracks:\n",
    "  track_name = track.split('_')[0].lower()\n",
    "  track2file[track_name] = os.path.join(os.getcwd(), path, track)\n",
    "  \n",
    "print(track2file)"
   ]
  },
  {
   "cell_type": "code",
   "execution_count": 43,
   "outputs": [],
   "source": [
    "pygame.mixer.init()\n",
    "\n",
    "channels = {}\n",
    "for track_name, file_path in track2file.items(): \n",
    "  channels[track_name] = pygame.mixer.Sound(file_path)\n"
   ],
   "metadata": {
    "collapsed": false,
    "ExecuteTime": {
     "end_time": "2023-10-22T00:19:10.981201Z",
     "start_time": "2023-10-22T00:19:10.948186Z"
    }
   },
   "id": "4ee113dcb81b035d"
  },
  {
   "cell_type": "code",
   "execution_count": 103,
   "outputs": [],
   "source": [
    "import time\n",
    "\n",
    "# config = {  #  q0   q1   q2   q3   q4\n",
    "#     'vocals': [0.0, 0.0, 0.0, 0.2, 0.5],\n",
    "#     'bass':   [0.5, 0.5, 0.5, 0.5, 0.5],\n",
    "#     'drums':  [0.2, 0.2, 0.5, 0.5, 0.5],\n",
    "#     'other':  [0.1, 0.5, 0.5, 0.5, 0.5],\n",
    "# }\n",
    "\n",
    "config = {  #  q0   q1   q2   q3   q4\n",
    "    'vocals': [0.0, 0.0, 0.0, 0.4, 1.0],\n",
    "    'bass':   [1.0, 1.0, 1.0, 1.0, 1.0],\n",
    "    'drums':  [0.4, 0.4, 1.0, 1.0, 1.0],\n",
    "    'other':  [0.2, 1.0, 1.0, 1.0, 1.0],\n",
    "}\n",
    "\n",
    "def set_q(n: int, ms: int = 1000, n_intervals: int = 10):\n",
    "\n",
    "  n_quadrants = len(config['vocals'])\n",
    "  if not (0 <= n < n_quadrants):\n",
    "    raise ValueError(f'n must be between 0 and {n_quadrants}')\n",
    "  \n",
    "  values = {\n",
    "    name: np.linspace(start = channel.get_volume(), stop = config[name][n], num = n_intervals) \n",
    "      for name, channel in channels.items()\n",
    "  }\n",
    "  \n",
    "  print(values)\n",
    "\n",
    "  interval = (ms / n_intervals) / 1000\n",
    "  \n",
    "  for i in range(n_intervals):\n",
    "    for name, channel in channels.items():\n",
    "      channel.set_volume(values[name][i])\n",
    "    time.sleep(interval)\n",
    "    \n",
    "\n",
    "def stop():\n",
    "    for name, channel in channels.items():\n",
    "        channel.stop()\n",
    "        \n",
    "def play():\n",
    "    for name, channel in channels.items():\n",
    "        channel.play()\n",
    "        channel.set_volume(1)\n",
    "        print(f'{name} volume {channel.get_volume()}')\n",
    "    \n",
    "\n",
    "def set_volume(name: str, volume: float):\n",
    "    if not (0 <= volume <= 1):\n",
    "        raise ValueError('volume must be between 0 and 1')\n",
    "    print(f'setting volume of {name} to {volume}')\n",
    "    channels[name].set_volume(volume)\n",
    "\n"
   ],
   "metadata": {
    "collapsed": false,
    "ExecuteTime": {
     "end_time": "2023-10-22T00:40:08.779726Z",
     "start_time": "2023-10-22T00:40:08.774801Z"
    }
   },
   "id": "7341392d78ba6203"
  },
  {
   "cell_type": "code",
   "execution_count": 118,
   "outputs": [
    {
     "name": "stdout",
     "output_type": "stream",
     "text": [
      "vocals volume 1.0\n",
      "drums volume 1.0\n",
      "bass volume 1.0\n",
      "other volume 1.0\n",
      "{'vocals': array([1., 0.]), 'drums': array([1. , 0.4]), 'bass': array([1., 1.]), 'other': array([1. , 0.2])}\n"
     ]
    }
   ],
   "source": [
    "play()\n",
    "set_q(0, n_intervals=2, ms = 0)"
   ],
   "metadata": {
    "collapsed": false,
    "ExecuteTime": {
     "end_time": "2023-10-22T00:54:01.842420Z",
     "start_time": "2023-10-22T00:54:01.836989Z"
    }
   },
   "id": "b5e91278769b4b0f"
  },
  {
   "cell_type": "code",
   "execution_count": 119,
   "outputs": [
    {
     "name": "stdout",
     "output_type": "stream",
     "text": [
      "vocals volume 0.0\n",
      "drums volume 0.3984375\n",
      "bass volume 1.0\n",
      "other volume 0.1953125\n"
     ]
    }
   ],
   "source": [
    "for name, channel in channels.items():\n",
    "  print(f'{name} volume {channel.get_volume()}')"
   ],
   "metadata": {
    "collapsed": false,
    "ExecuteTime": {
     "end_time": "2023-10-22T00:54:13.002999Z",
     "start_time": "2023-10-22T00:54:12.998458Z"
    }
   },
   "id": "5381b7ca34059559"
  },
  {
   "cell_type": "code",
   "execution_count": 110,
   "outputs": [],
   "source": [
    "channels['drums'].set_volume(.4)"
   ],
   "metadata": {
    "collapsed": false,
    "ExecuteTime": {
     "end_time": "2023-10-22T00:42:13.522723Z",
     "start_time": "2023-10-22T00:42:13.514993Z"
    }
   },
   "id": "dbb1514a0ba7d3a1"
  },
  {
   "cell_type": "code",
   "execution_count": 120,
   "outputs": [
    {
     "name": "stdout",
     "output_type": "stream",
     "text": [
      "{'vocals': array([0., 0., 0., 0., 0., 0., 0., 0., 0., 0.]), 'drums': array([0.3984375 , 0.39861111, 0.39878472, 0.39895833, 0.39913194,\n",
      "       0.39930556, 0.39947917, 0.39965278, 0.39982639, 0.4       ]), 'bass': array([1., 1., 1., 1., 1., 1., 1., 1., 1., 1.]), 'other': array([0.1953125 , 0.28472222, 0.37413194, 0.46354167, 0.55295139,\n",
      "       0.64236111, 0.73177083, 0.82118056, 0.91059028, 1.        ])}\n"
     ]
    }
   ],
   "source": [
    "set_q(1)"
   ],
   "metadata": {
    "collapsed": false,
    "ExecuteTime": {
     "end_time": "2023-10-22T00:54:20.401622Z",
     "start_time": "2023-10-22T00:54:19.367113Z"
    }
   },
   "id": "638e009124aa9a00"
  },
  {
   "cell_type": "code",
   "execution_count": 121,
   "outputs": [
    {
     "name": "stdout",
     "output_type": "stream",
     "text": [
      "{'vocals': array([0., 0., 0., 0., 0., 0., 0., 0., 0., 0.]), 'drums': array([0.3984375 , 0.46527778, 0.53211806, 0.59895833, 0.66579861,\n",
      "       0.73263889, 0.79947917, 0.86631944, 0.93315972, 1.        ]), 'bass': array([1., 1., 1., 1., 1., 1., 1., 1., 1., 1.]), 'other': array([1., 1., 1., 1., 1., 1., 1., 1., 1., 1.])}\n"
     ]
    }
   ],
   "source": [
    "set_q(2)"
   ],
   "metadata": {
    "collapsed": false,
    "ExecuteTime": {
     "end_time": "2023-10-22T00:54:26.196944Z",
     "start_time": "2023-10-22T00:54:25.171348Z"
    }
   },
   "id": "93e5be0a8cabd8ee"
  },
  {
   "cell_type": "code",
   "execution_count": 122,
   "outputs": [
    {
     "name": "stdout",
     "output_type": "stream",
     "text": [
      "{'vocals': array([0.        , 0.04444444, 0.08888889, 0.13333333, 0.17777778,\n",
      "       0.22222222, 0.26666667, 0.31111111, 0.35555556, 0.4       ]), 'drums': array([1., 1., 1., 1., 1., 1., 1., 1., 1., 1.]), 'bass': array([1., 1., 1., 1., 1., 1., 1., 1., 1., 1.]), 'other': array([1., 1., 1., 1., 1., 1., 1., 1., 1., 1.])}\n"
     ]
    }
   ],
   "source": [
    "set_q(3)"
   ],
   "metadata": {
    "collapsed": false,
    "ExecuteTime": {
     "end_time": "2023-10-22T00:54:32.162056Z",
     "start_time": "2023-10-22T00:54:31.119489Z"
    }
   },
   "id": "6a910c110d0ab70c"
  },
  {
   "cell_type": "code",
   "execution_count": 123,
   "outputs": [
    {
     "name": "stdout",
     "output_type": "stream",
     "text": [
      "{'vocals': array([0.3984375 , 0.46527778, 0.53211806, 0.59895833, 0.66579861,\n",
      "       0.73263889, 0.79947917, 0.86631944, 0.93315972, 1.        ]), 'drums': array([1., 1., 1., 1., 1., 1., 1., 1., 1., 1.]), 'bass': array([1., 1., 1., 1., 1., 1., 1., 1., 1., 1.]), 'other': array([1., 1., 1., 1., 1., 1., 1., 1., 1., 1.])}\n"
     ]
    }
   ],
   "source": [
    "set_q(4)"
   ],
   "metadata": {
    "collapsed": false,
    "ExecuteTime": {
     "end_time": "2023-10-22T00:54:40.298986Z",
     "start_time": "2023-10-22T00:54:39.274589Z"
    }
   },
   "id": "cf75192a44e9bfc0"
  },
  {
   "cell_type": "code",
   "execution_count": 124,
   "outputs": [],
   "source": [
    "stop()"
   ],
   "metadata": {
    "collapsed": false,
    "ExecuteTime": {
     "end_time": "2023-10-22T00:55:01.198436Z",
     "start_time": "2023-10-22T00:55:01.187677Z"
    }
   },
   "id": "8c0649d21dca55d8"
  },
  {
   "cell_type": "code",
   "execution_count": null,
   "outputs": [],
   "source": [],
   "metadata": {
    "collapsed": false
   },
   "id": "e5eac0997d2a53b7"
  }
 ],
 "metadata": {
  "kernelspec": {
   "display_name": "Python 3",
   "language": "python",
   "name": "python3"
  },
  "language_info": {
   "codemirror_mode": {
    "name": "ipython",
    "version": 2
   },
   "file_extension": ".py",
   "mimetype": "text/x-python",
   "name": "python",
   "nbconvert_exporter": "python",
   "pygments_lexer": "ipython2",
   "version": "2.7.6"
  }
 },
 "nbformat": 4,
 "nbformat_minor": 5
}
